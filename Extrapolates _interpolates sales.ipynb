{
 "cells": [
  {
   "cell_type": "code",
   "execution_count": 6,
   "id": "03fc0f0a",
   "metadata": {},
   "outputs": [],
   "source": [
    "import pandas as pd\n",
    "import warnings\n",
    "warnings.filterwarnings('ignore')\n",
    "\n",
    "def extrapolate_sales_data(input_file, x, max_date, output_file):\n",
    "    df = pd.read_csv(input_file)\n",
    "    df['yearmonth'] = pd.to_datetime(df['yearmonth'], format='%Y%m')\n",
    "    new_df = pd.DataFrame(columns=df.columns)\n",
    "    for (customer, product), group in df.groupby(['customer', 'product']):\n",
    "        group = group.sort_values('yearmonth')\n",
    "        for i, row in group.iterrows():\n",
    "            new_df = new_df.append(row)\n",
    "            for j in range(1, x+1):\n",
    "                yearmonth = row['yearmonth'] + pd.DateOffset(months=j)\n",
    "                \n",
    "                if yearmonth > pd.to_datetime(max_date, format='%Y%m'):\n",
    "                    break\n",
    "                if len(df[(df['customer']==customer) & (df['product']==product) & (df['yearmonth']==yearmonth)]) == 0:\n",
    "                    new_row = {'customer': customer, 'product': product, 'yearmonth': yearmonth, 'sales': 0}\n",
    "                    new_df = new_df.append(new_row, ignore_index=True)\n",
    "\n",
    "    new_df['yearmonth'] = new_df['yearmonth'].dt.strftime('%Y%m').astype(int)\n",
    "\n",
    "    new_df.drop_duplicates(inplace=True)\n",
    "    new_df.sort_values(['customer', 'product', 'yearmonth'], inplace=True)\n",
    "    new_df.to_csv(output_file, index=False)\n",
    "    \n",
    "extrapolate_sales_data('input.csv', 4, '201812', 'output.csv')\n"
   ]
  },
  {
   "cell_type": "code",
   "execution_count": null,
   "id": "9ac2854f",
   "metadata": {},
   "outputs": [],
   "source": []
  }
 ],
 "metadata": {
  "kernelspec": {
   "display_name": "Python 3 (ipykernel)",
   "language": "python",
   "name": "python3"
  },
  "language_info": {
   "codemirror_mode": {
    "name": "ipython",
    "version": 3
   },
   "file_extension": ".py",
   "mimetype": "text/x-python",
   "name": "python",
   "nbconvert_exporter": "python",
   "pygments_lexer": "ipython3",
   "version": "3.10.6"
  }
 },
 "nbformat": 4,
 "nbformat_minor": 5
}
